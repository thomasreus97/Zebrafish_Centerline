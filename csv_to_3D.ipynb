{
 "cells": [
  {
   "cell_type": "code",
   "execution_count": 1,
   "metadata": {},
   "outputs": [],
   "source": [
    "import os\n",
    "import pandas as pd\n",
    "import csv\n",
    "import numpy as np\n",
    "from joblib import dump, load\n",
    "import h5py\n",
    "\n",
    "from matplotlib import pyplot as plt\n",
    "import mpl_toolkits.mplot3d.axes3d as p3\n",
    "from matplotlib import animation\n",
    "%matplotlib notebook\n",
    "\n",
    "import cv2\n",
    "from matplotlib.backends.backend_agg import FigureCanvasAgg as FigureCanvas"
   ]
  },
  {
   "cell_type": "markdown",
   "metadata": {},
   "source": [
    "# Gather instances"
   ]
  },
  {
   "cell_type": "code",
   "execution_count": 2,
   "metadata": {},
   "outputs": [],
   "source": [
    "experiment_path = \"../predictions/20201119/bottomup/pred_FishTank20200416_160648/results/FishTank20200416_160648/\"\n",
    "video_path = \"../../../zebrafish_labeling_GUI/OneFish_20200416/\"\n",
    "cameras = [\"D_xz\", \"E_xy\", \"F_yz\"]"
   ]
  },
  {
   "cell_type": "code",
   "execution_count": 5,
   "metadata": {},
   "outputs": [
    {
     "name": "stdout",
     "output_type": "stream",
     "text": [
      "FishTank20200416_160648\n"
     ]
    }
   ],
   "source": [
    "print(experiment_path.split('/')[-2])"
   ]
  },
  {
   "cell_type": "code",
   "execution_count": 3,
   "metadata": {},
   "outputs": [
    {
     "name": "stdout",
     "output_type": "stream",
     "text": [
      "['splitdata0007', 'splitdata0008', 'splitdata0009', 'splitdata0010', 'splitdata0011', 'splitdata0012', 'splitdata0013', 'splitdata0014', 'splitdata0015', 'splitdata0016', 'splitdata0017', 'splitdata0018', 'splitdata0019', 'splitdata0020', 'splitdata0021', 'splitdata0022', 'splitdata0023', 'splitdata0024', 'splitdata0025', 'splitdata0026', 'splitdata0027', 'splitdata0028', 'splitdata0029', 'splitdata0030', 'splitdata0031', 'splitdata0032', 'splitdata0033', 'splitdata0034', 'splitdata0035', 'splitdata0036', 'splitdata0037', 'splitdata0038', 'splitdata0039', 'splitdata0040', 'splitdata0041', 'splitdata0042', 'splitdata0043', 'splitdata0044', 'splitdata0045', 'splitdata0046', 'splitdata0047', 'splitdata0048', 'splitdata0049', 'splitdata0050', 'splitdata0051', 'splitdata0052', 'splitdata0053', 'splitdata0054', 'splitdata0055', 'splitdata0056', 'splitdata0057', 'splitdata0058', 'splitdata0059', 'splitdata0060', 'splitdata0061', 'splitdata0062', 'splitdata0063', 'splitdata0064', 'splitdata0065', 'splitdata0066', 'splitdata0067', 'splitdata0068', 'splitdata0069', 'splitdata0070', 'splitdata0071', 'splitdata0072', 'splitdata0073', 'splitdata0074', 'splitdata0075', 'splitdata0076', 'splitdata0077', 'splitdata0078', 'splitdata0079', 'splitdata0080', 'splitdata0081', 'splitdata0082', 'splitdata0083', 'splitdata0084', 'splitdata0085', 'splitdata0086', 'splitdata0087', 'splitdata0088', 'splitdata0089', 'splitdata0090', 'splitdata0091', 'splitdata0092', 'splitdata0093', 'splitdata0094', 'splitdata0095', 'splitdata0096', 'splitdata0097', 'splitdata0098', 'splitdata0099', 'splitdata0100', 'splitdata0101', 'splitdata0102']\n"
     ]
    }
   ],
   "source": [
    "splitdatas = sorted([file.split('.')[0] for file in os.listdir(video_path + cameras[0]) if file.split('0')[0] == 'splitdata'])\n",
    "print(splitdatas)"
   ]
  },
  {
   "cell_type": "code",
   "execution_count": 7,
   "metadata": {},
   "outputs": [
    {
     "name": "stdout",
     "output_type": "stream",
     "text": [
      "splitdata0102\n",
      "[6000, 6000, 6000, 6000, 6000, 6000, 6000, 6000, 6000, 6000, 6000, 6000, 6000, 6000, 6000, 6000, 6000, 6000, 6000, 6000, 6000, 6000, 6000, 6000, 6000, 6000, 6000, 6000, 6000, 6000, 6000, 6000, 6000, 6000, 6000, 6000, 6000, 6000, 6000, 6000, 6000, 6000, 6000, 6000, 6000, 6000, 6000, 6000, 6000, 6000, 6000, 6000, 6000, 6000, 6000, 6000, 6000, 6000, 6000, 6000, 6000, 6000, 6000, 6000, 6000, 6000, 6000, 6000, 6000, 6000, 6000, 6000, 6000, 6000, 6000, 6000, 6000, 6000, 6000, 6000, 6000, 6000, 6000, 6000, 6000, 6000, 6000, 6000, 6000, 6000, 6000, 6000, 6000, 6000, 6000, 3978]\n"
     ]
    }
   ],
   "source": [
    "# get total frames\n",
    "max_values = []\n",
    "    \n",
    "for split in splitdatas:\n",
    "    max_frames_split = 0\n",
    "    for cam in cameras:\n",
    "        cam_path = experiment_path + cam + '/' + split + '.csv'\n",
    "        csv_file = pd.read_csv(cam_path, header=None)\n",
    "        if not csv_file[1].all() == 0:\n",
    "            print(\"tracking error found!\")\n",
    "        if max(csv_file[0]) > max_frames_split:\n",
    "            max_frames_split = max(csv_file[0])\n",
    "    max_values.append(max_frames_split + 1)\n",
    "    if max_frames_split + 1 < 6000:\n",
    "        print(split)\n",
    "print(max_values)"
   ]
  },
  {
   "cell_type": "code",
   "execution_count": 12,
   "metadata": {},
   "outputs": [],
   "source": [
    "# gather all original_instances\n",
    "original_instances = np.zeros(shape=(3, sum(max_values), 1, 3, 2))\n",
    "\n",
    "for i, cam in enumerate(cameras):\n",
    "    frames_done = 0\n",
    "    for j, split in enumerate(splitdatas):\n",
    "        cam_path = experiment_path + cam + '/' + split + '.csv'\n",
    "        with open(cam_path) as csv_file:\n",
    "            csv_reader = csv.reader(csv_file, delimiter=',')\n",
    "            for row in csv_reader:\n",
    "                frame = int(row[0])\n",
    "                part = int(row[2])\n",
    "                original_instances[i, frame + sum(max_values[0:j]), 0, part, 0] = float(row[3]) \n",
    "                original_instances[i, frame + sum(max_values[0:j]), 0, part, 1] = float(row[4])"
   ]
  },
  {
   "cell_type": "code",
   "execution_count": 13,
   "metadata": {},
   "outputs": [],
   "source": [
    "# convert zeros to NaNs\n",
    "original_instances = original_instances.astype('float')\n",
    "original_instances[original_instances == 0] = np.NaN\n",
    "\n",
    "# save\n",
    "original_instances_path = experiment_path + experiment_path.split('/')[-2] + \".h5\"\n",
    "with h5py.File(original_instances_path, 'w') as hf:\n",
    "    hf.create_dataset('original_instances', data=original_instances)"
   ]
  },
  {
   "cell_type": "markdown",
   "metadata": {},
   "source": [
    "# Calculate 3D values"
   ]
  },
  {
   "cell_type": "code",
   "execution_count": 14,
   "metadata": {},
   "outputs": [],
   "source": [
    "class Calibration(object):\n",
    "    ''' A class for loading and using the calibrations for the cameras\n",
    "    \n",
    "    -- Methods --\n",
    "    compute_imageCoord_triplet_from_XYZ\n",
    "    compute_XYZ_from_imageCoord_triplet\n",
    "    compute_XZ_imcoords_from_XY_YZ\n",
    "    compute_XY_imcoords_from_XZ_YZ\n",
    "    compute_YZ_imcoords_from_XZ_XY\n",
    "    compute_point_correspondence_error\n",
    "    \n",
    "    '''\n",
    "    \n",
    "    def __init__(self, calibration_folder_path):\n",
    "        ''' Instantiate the object\n",
    "        \n",
    "        -- args --\n",
    "        calibration_folder_path: the path to a calibration folder, where the regressed functions\n",
    "                                 have already been computed and saved\n",
    "                                 \n",
    "        '''\n",
    "        # record the folder paths\n",
    "        self.calibration_folder_path = calibration_folder_path\n",
    "        self.python_calibration_folderPath = os.path.join(self.calibration_folder_path, \n",
    "                                                          'python_calibration_models')\n",
    "        \n",
    "        # load the models and assign as attributes\n",
    "        self._load_models()\n",
    "        \n",
    "    \n",
    "    def _load_models(self):\n",
    "        ''' Instantiate the regression object attributes:\n",
    "            xyz_getter, imCoord_getter, xz_getter, xy_getter, yz_getter \n",
    "        '''\n",
    "        imCoords_to_XYZ_path = os.path.join(self.python_calibration_folderPath, 'imCoords_to_XYZ.joblib')\n",
    "        XYZ_to_imCoords_path = os.path.join(self.python_calibration_folderPath, 'XYZ_to_imCoords.joblib')\n",
    "        xy_yz_to_xz_path = os.path.join(self.python_calibration_folderPath, 'xy_yz_to_xz.joblib')\n",
    "        xz_yz_to_xy_path = os.path.join(self.python_calibration_folderPath, 'xz_yz_to_xy.joblib')\n",
    "        xz_xy_to_yz_path = os.path.join(self.python_calibration_folderPath, 'xz_xy_to_yz.joblib')\n",
    "        \n",
    "        self.xyz_getter = load(imCoords_to_XYZ_path)\n",
    "        self.imCoord_getter = load(XYZ_to_imCoords_path)\n",
    "        self.xz_getter = load(xy_yz_to_xz_path)\n",
    "        self.xy_getter = load(xz_yz_to_xy_path)\n",
    "        self.yz_getter = load(xz_xy_to_yz_path)\n",
    "        return\n",
    "    \n",
    "    \n",
    "    # ---- Main Methods ---- #\n",
    "    \n",
    "    def compute_imageCoord_triplet_from_XYZ(self, XYZ):\n",
    "        ''' Predict the image coordinates in all 3 camera views of the\n",
    "            3D point XYZ\n",
    "            \n",
    "        -- inputs --\n",
    "        XYZ: array (3,), the position of a point in 3D\n",
    "        \n",
    "        -- returns --\n",
    "        imCoords: array (3,2) of image coordinates in standard camera\n",
    "                  order of XZ,XY,YZ\n",
    "        '''\n",
    "        imCoords = self.imCoord_getter.predict(XYZ.reshape(1,-1))\n",
    "        imCoords = imCoords.reshape(3,2)\n",
    "        return imCoords\n",
    "    \n",
    "    \n",
    "    def compute_XYZ_from_imageCoord_triplet(self, imCoords):\n",
    "        ''' Predict the XYZ position of the point given by the image\n",
    "            coordinates from all 3 cameras\n",
    "\n",
    "        -- Inputs --\n",
    "        imCoords: array of shape (3,2)\n",
    "\n",
    "        -- Outputs --\n",
    "        XYZ: array of shape (3)\n",
    "\n",
    "        '''\n",
    "        XYZ = self.xyz_getter.predict(imCoords.reshape(-1,6))\n",
    "        return XYZ\n",
    "    \n",
    "    \n",
    "    def compute_XZ_imcoords_from_XY_YZ(self, xy_imCoord, yz_imCoord):\n",
    "        ''' Given an image coordinate from both the XY and YZ views,\n",
    "            compute the corresponding image coordinate from the XZ view\n",
    "\n",
    "        -- args --\n",
    "        xy_imCoord: image coordinate of shape (2,)\n",
    "        yz_imCoord: image coordinate of shape (2,)\n",
    "\n",
    "        -- returns --\n",
    "        xz_imCoord: image coordinate of shape (2,)\n",
    "\n",
    "        '''\n",
    "        input_data = np.hstack((xy_imCoord, yz_imCoord)).reshape(1,4)\n",
    "        xz_imCoord = self.xz_getter.predict(input_data)\n",
    "        return xz_imCoord\n",
    "\n",
    "    def compute_XY_imcoords_from_XZ_YZ(self, xz_imCoord, yz_imCoord):\n",
    "        ''' Given an image coordinate from both the XZ and YZ views,\n",
    "            compute the corresponding image coordinate from the XY view\n",
    "\n",
    "        -- args --\n",
    "        xz_imCoord: image coordinate of shape (2,)\n",
    "        yz_imCoord: image coordinate of shape (2,)\n",
    "        \n",
    "        -- returns --\n",
    "        xy_imCoord: image coordinate of shape (2,)\n",
    "        '''\n",
    "        # prepare the input for predictor, and predict the imcoord\n",
    "        input_data = np.hstack((xz_imCoord, yz_imCoord)).reshape(1,4)\n",
    "        xy_imCoord = self.xy_getter.predict(input_data)\n",
    "        return xy_imCoord\n",
    "\n",
    "    def compute_YZ_imcoords_from_XZ_XY(self, xz_imCoord, xy_imCoord):\n",
    "        ''' Given an image coordinate from both the XY and YZ views,\n",
    "            compute the corresponding image coordinate from the XZ view\n",
    "\n",
    "        -- args --\n",
    "        xz_imCoord: image coordinate of shape (2,)\n",
    "        xy_imCoord: image coordinate of shape (2,)\n",
    "\n",
    "        -- returns --\n",
    "        yz_imCoord: image coordinate of shape (2,)\n",
    "\n",
    "        '''\n",
    "        # prepare the input for predictor, and predict the imcoord\n",
    "        input_data = np.hstack((xz_imCoord, xy_imCoord)).reshape(1,4)\n",
    "        yz_imCoord = self.yz_getter.predict(input_data)\n",
    "        return yz_imCoord\n",
    "    \n",
    "    \n",
    "    def compute_point_correspondence_error(self, camIdxs, imCoords_cam1, imCoords_cam2):\n",
    "        ''' Compute the error of making a cross-camera association between these points\n",
    "\n",
    "        -- args -- \n",
    "        camIdxs: a list denoting the cameras the imCoords args are coming from.\n",
    "                 Has to be [0,1], [1,2], or [0, 2]\n",
    "        imCoords_cam1: image coordinates from a camera\n",
    "        imCoords_cam2: image coordinates from a different camera\n",
    "\n",
    "\n",
    "        -- returns --\n",
    "        error: a scalar error value for making this association \n",
    "        '''\n",
    "        # STEP 0: The error is NaN if either point is NaN\n",
    "        if np.all(np.isnan(imCoords_cam1)) or np.all(np.isnan(imCoords_cam2)):\n",
    "            return np.NaN\n",
    "\n",
    "        # STEP 1: Compute the proposed image coordinate triplet\n",
    "        if camIdxs == [0,1]:\n",
    "            # derive YZ\n",
    "            imCoords_cam3 = self.compute_YZ_imcoords_from_XZ_XY(imCoords_cam1, imCoords_cam2)\n",
    "            proposed_imCoords = np.vstack((imCoords_cam1, imCoords_cam2, imCoords_cam3))\n",
    "        elif camIdxs == [0, 2]:\n",
    "            # derive XY\n",
    "            imCoords_cam3 = self.compute_XY_imcoords_from_XZ_YZ(imCoords_cam1, imCoords_cam2)\n",
    "            proposed_imCoords = np.vstack((imCoords_cam1, imCoords_cam3, imCoords_cam2))\n",
    "        elif camIdxs == [1, 2]:\n",
    "            # derive XZ\n",
    "            imCoords_cam3 = self.compute_XZ_imcoords_from_XY_YZ(imCoords_cam1, imCoords_cam2)\n",
    "            proposed_imCoords = np.vstack((imCoords_cam3, imCoords_cam1, imCoords_cam2))\n",
    "\n",
    "\n",
    "        # STEP 2: Compute the errors\n",
    "\n",
    "        # For each pairing of cameras, compute the 3rd cam image coordinate,\n",
    "        # then compare this triplet to the proposed_imCoords, which act as truth\n",
    "        # Note1: If this is a good pairing, then proposed_imCoords represent the same point in 3D\n",
    "        # Note2: for one of these camera pairings test, we will get back an error of 0,\n",
    "        #        since we did the same computation to compute proposed_coordinates.\n",
    "        # Note3: to deal with note2, we define the error as the maximum of the 3 errors\n",
    "        derived_xz = self.compute_XZ_imcoords_from_XY_YZ(proposed_imCoords[1], proposed_imCoords[2])\n",
    "        image_coords_derXZ = np.vstack((derived_xz, proposed_imCoords[1], proposed_imCoords[2]))\n",
    "        error_derXZ = np.linalg.norm(proposed_imCoords - image_coords_derXZ)\n",
    "\n",
    "        derived_xy = self.compute_XY_imcoords_from_XZ_YZ(proposed_imCoords[0], proposed_imCoords[2])\n",
    "        image_coords_derXY = np.vstack((proposed_imCoords[0], derived_xy, proposed_imCoords[2]))\n",
    "        error_derXY = np.linalg.norm(proposed_imCoords - image_coords_derXY)\n",
    "\n",
    "        derived_yz = self.compute_YZ_imcoords_from_XZ_XY(proposed_imCoords[0], proposed_imCoords[1])\n",
    "        image_coords_derYZ = np.vstack((proposed_imCoords[0], proposed_imCoords[1], derived_yz))\n",
    "        error_derYZ = np.linalg.norm(proposed_imCoords - image_coords_derYZ)\n",
    "\n",
    "        errors = np.vstack((error_derXY, error_derXY, error_derYZ))\n",
    "        error = np.sum(errors)\n",
    "\n",
    "        return error"
   ]
  },
  {
   "cell_type": "code",
   "execution_count": 15,
   "metadata": {},
   "outputs": [],
   "source": [
    "# calibration folder\n",
    "calibrationFolderPath = '/home/thomasreus/Documents/Project/LargeCrop/20200325_calibration/shared_20200907/'\n",
    "\n",
    "# set other information of importance\n",
    "padding_depth = 70\n",
    "numFish = 1\n",
    "numBodyPoints = 3\n",
    "numCams = 3\n",
    "\n",
    "# calibration object\n",
    "cal = Calibration(calibrationFolderPath)\n",
    "\n",
    "instances = np.copy(original_instances)"
   ]
  },
  {
   "cell_type": "code",
   "execution_count": 16,
   "metadata": {},
   "outputs": [],
   "source": [
    "# loop over data and get 3D points\n",
    "numFrames = len(instances[0])\n",
    "positions_3D = np.zeros((numFrames, 1, numBodyPoints, 3))\n",
    "undefined_bps = {}\n",
    "xz_fail = 0\n",
    "xy_fail = 0\n",
    "yz_fail = 0\n",
    "\n",
    "for frame in range(numFrames):\n",
    "    \n",
    "    for bpIdx in range(numBodyPoints):\n",
    "        \n",
    "        # bodypoint coordinates\n",
    "        bpCoordTriplet = instances[:, frame, 0, bpIdx]\n",
    "        \n",
    "        # check for NaN\n",
    "        if np.isnan(bpCoordTriplet).any():\n",
    "            validCams = []\n",
    "            invalidCams = []\n",
    "            for cam, coords in enumerate(bpCoordTriplet):\n",
    "                if not np.isnan(coords).any():\n",
    "                    validCams.append(cam)\n",
    "                else:\n",
    "                    invalidCams.append(cam)\n",
    "                    \n",
    "            # calculate missing data\n",
    "            if validCams == [0, 1]:\n",
    "                bpCoordTriplet[2] = cal.compute_YZ_imcoords_from_XZ_XY(bpCoordTriplet[0], bpCoordTriplet[1])\n",
    "            elif validCams == [0, 2]:\n",
    "                bpCoordTriplet[1] = cal.compute_XY_imcoords_from_XZ_YZ(bpCoordTriplet[0], bpCoordTriplet[2])\n",
    "            elif validCams == [1, 2]:\n",
    "                bpCoordTriplet[0] = cal.compute_XZ_imcoords_from_XY_YZ(bpCoordTriplet[1], bpCoordTriplet[2])\n",
    "            else:\n",
    "                for invCam in invalidCams:\n",
    "                    if invCam == 0:\n",
    "                        xz_fail += 1\n",
    "                    elif invCam == 1:\n",
    "                        xy_fail += 1\n",
    "                    elif invCam == 2:\n",
    "                        yz_fail += 1\n",
    "                try:\n",
    "                    undefined_bps[frame].append([bpIdx, invalidCams])\n",
    "                except:\n",
    "                    undefined_bps[frame] = [[bpIdx, invalidCams]]\n",
    "                continue\n",
    "                \n",
    "        # compute 3D from data\n",
    "        bp_3D = cal.compute_XYZ_from_imageCoord_triplet(bpCoordTriplet)\n",
    "        positions_3D[frame, 0, bpIdx] = bp_3D"
   ]
  },
  {
   "cell_type": "code",
   "execution_count": 17,
   "metadata": {},
   "outputs": [
    {
     "name": "stdout",
     "output_type": "stream",
     "text": [
      "173\n"
     ]
    }
   ],
   "source": [
    "print(len(undefined_bps))"
   ]
  },
  {
   "cell_type": "code",
   "execution_count": 18,
   "metadata": {},
   "outputs": [
    {
     "name": "stdout",
     "output_type": "stream",
     "text": [
      "152 272 351\n"
     ]
    }
   ],
   "source": [
    "print(xz_fail, xy_fail, yz_fail)"
   ]
  },
  {
   "cell_type": "code",
   "execution_count": 19,
   "metadata": {},
   "outputs": [],
   "source": [
    "# convert zeros to NaNs\n",
    "positions_3D = positions_3D.astype('float')\n",
    "positions_3D[positions_3D == 0] = np.NaN\n",
    "\n",
    "# positions_3D[positions_3D == 0] = np.NaN\n",
    "with h5py.File(original_instances_path, 'a') as hf:\n",
    "    hf.create_dataset('tracks_3D', data=positions_3D)"
   ]
  },
  {
   "cell_type": "code",
   "execution_count": 20,
   "metadata": {},
   "outputs": [
    {
     "name": "stdout",
     "output_type": "stream",
     "text": [
      "(573978, 1, 3, 3)\n"
     ]
    }
   ],
   "source": [
    "print(positions_3D.shape)"
   ]
  },
  {
   "cell_type": "markdown",
   "metadata": {},
   "source": [
    "# Make 3D animation"
   ]
  },
  {
   "cell_type": "code",
   "execution_count": null,
   "metadata": {},
   "outputs": [],
   "source": [
    "def make_frame(data_frame):\n",
    "    plt.ioff()\n",
    "    fig = plt.figure(figsize=(10,10))\n",
    "    canvas = FigureCanvas(fig)\n",
    "    fig.add_subplot(111, projection='3d')\n",
    "    ax = fig.gca()\n",
    "    c_real = [0,0,1,1]\n",
    "    \n",
    "    ax.scatter(data_frame[0, 0], data_frame[0, 1], data_frame[0, 2], color=c_real, marker='D', depthshade=False, s=40)\n",
    "    ax.scatter(data_frame[1, 0], data_frame[1, 1], data_frame[1, 2], color=c_real, marker='x', depthshade=False, s=40)\n",
    "    ax.scatter(data_frame[2, 0], data_frame[2, 1], data_frame[2, 2], color=c_real, marker='.', depthshade=False, s=40)\n",
    "    ax.plot3D(data_frame[:, 0], data_frame[:, 1], data_frame[:, 2], color=c_real, linewidth=2)\n",
    "    \n",
    "    ax.set_xlabel('X (cm)', fontsize=20)\n",
    "    ax.set_ylabel('Y (cm)', fontsize=20)\n",
    "    ax.set_zlabel('Z (cm)', fontsize=20)\n",
    "    ax.set_xlim(0,40)\n",
    "    ax.set_ylim(0,40)\n",
    "    ax.set_zlim(0,40)\n",
    "    ticks = [0, 10, 20, 30, 40]\n",
    "    ax.set_xticks(ticks, minor=False)\n",
    "    ax.set_yticks(ticks, minor=False)\n",
    "    elevation_angle = 10\n",
    "    azimuthal_angle = 45\n",
    "    ax.view_init(elevation_angle, azimuthal_angle)\n",
    "    \n",
    "    canvas.draw()\n",
    "    s, (width, height) = canvas.print_to_buffer()\n",
    "    \n",
    "    # convert the figure to an array of the correct size\n",
    "    img = np.frombuffer(canvas.tostring_rgb(), dtype='uint8').reshape(width, height, 3)\n",
    "    \n",
    "    plt.close()\n",
    "    plt.ion()\n",
    "    \n",
    "    return img"
   ]
  },
  {
   "cell_type": "code",
   "execution_count": null,
   "metadata": {},
   "outputs": [],
   "source": [
    "coords = np.copy(positions_3D)\n",
    "\n",
    "# pick a start and stop frame\n",
    "startFrame = 0\n",
    "stopFrame = 60000\n",
    "\n",
    "# set other parameters for the movie\n",
    "movPath = experiment_path + '10minute.mp4'\n",
    "fps = 100\n",
    "fourcc = cv2.VideoWriter_fourcc('m','p','4','v')\n",
    "resolution = (500,500) \n",
    "out = cv2.VideoWriter(movPath, fourcc, fps, resolution)\n",
    "\n",
    "for n in range(startFrame, stopFrame):\n",
    "    if np.mod(n, 500) == 0:\n",
    "        print(n)\n",
    "    \n",
    "    # Make sLEAP panel\n",
    "    sLEAP_panel = make_frame(coords[n, 0])\n",
    "    \n",
    "    # resize the panel\n",
    "    sLEAP_panel = cv2.resize(sLEAP_panel, (500,500), interpolation=cv2.INTER_AREA)\n",
    "    \n",
    "    # draw the frame number\n",
    "    font                   = cv2.FONT_HERSHEY_SIMPLEX\n",
    "    bottomLeftCornerOfText = (10,480)\n",
    "    fontScale              = 1\n",
    "    fontColor              = (0,0,0)\n",
    "    lineType               = 2\n",
    "    cv2.putText(sLEAP_panel,str(n).zfill(6), \n",
    "        bottomLeftCornerOfText, \n",
    "        font, \n",
    "        fontScale,\n",
    "        fontColor,\n",
    "        lineType)\n",
    "    \n",
    "    # write the frame\n",
    "    out.write(sLEAP_panel)\n",
    "\n",
    "# close the writer\n",
    "out.release()"
   ]
  },
  {
   "cell_type": "code",
   "execution_count": null,
   "metadata": {},
   "outputs": [],
   "source": []
  },
  {
   "cell_type": "code",
   "execution_count": null,
   "metadata": {},
   "outputs": [],
   "source": []
  }
 ],
 "metadata": {
  "kernelspec": {
   "display_name": "Python 3",
   "language": "python",
   "name": "python3"
  },
  "language_info": {
   "codemirror_mode": {
    "name": "ipython",
    "version": 3
   },
   "file_extension": ".py",
   "mimetype": "text/x-python",
   "name": "python",
   "nbconvert_exporter": "python",
   "pygments_lexer": "ipython3",
   "version": "3.6.9"
  }
 },
 "nbformat": 4,
 "nbformat_minor": 4
}
