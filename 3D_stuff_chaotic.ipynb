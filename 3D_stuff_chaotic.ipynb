{
 "cells": [
  {
   "cell_type": "markdown",
   "metadata": {},
   "source": [
    "Code to explore 3-point data"
   ]
  },
  {
   "cell_type": "code",
   "execution_count": null,
   "metadata": {},
   "outputs": [],
   "source": [
    "import numpy as np\n",
    "import h5py\n",
    "import time\n",
    "import os\n",
    "import matplotlib.pyplot as plt\n",
    "from matplotlib.backends.backend_agg import FigureCanvasAgg as FigureCanvas\n",
    "import mpl_toolkits.mplot3d.axes3d as p3\n",
    "import matplotlib.animation as animation\n",
    "%matplotlib notebook\n",
    "from collections import Counter\n",
    "import math\n",
    "import cv2"
   ]
  },
  {
   "cell_type": "markdown",
   "metadata": {},
   "source": [
    "# Import data"
   ]
  },
  {
   "cell_type": "code",
   "execution_count": null,
   "metadata": {},
   "outputs": [],
   "source": [
    "file_paths = [\"../predictions/20201119/bottomup/pred_FishTank20200416_160648/results/FishTank20200416_160648/FishTank20200416_160648.h5\",\n",
    "              \"../predictions/20201119/bottomup/pred_FishTank20200413_154621/results/FishTank20200413_154621/FishTank20200413_154621.h5\",\n",
    "              \"../predictions/20201120/pred_FishTank20200414_154100/results/FishTank20200414_154100/FishTank20200414_154100.h5\",\n",
    "              \"../predictions/20201120/pred_FishTank20200415_154234/results/FishTank20200415_154234/FishTank20200415_154234.h5\",\n",
    "              \"../predictions/20201120/pred_FishTank20200417_154139/results/FishTank20200417_154139/FishTank20200417_154139.h5\",\n",
    "              \"../predictions/20201120/pred_FishTank20200418_160144/results/FishTank20200418_160144/FishTank20200418_160144.h5\",\n",
    "              \"../predictions/20201120/pred_FishTank20200419_151352/results/FishTank20200419_151352/FishTank20200419_151352.h5\",\n",
    "              \"../predictions/20201120/pred_FishTank20200419_173651/results/FishTank20200419_173651/FishTank20200419_173651.h5\",\n",
    "              \"../predictions/20201120/pred_FishTank20200420_153056/results/FishTank20200420_153056/FishTank20200420_153056.h5\",\n",
    "              \"../predictions/20201120/pred_FishTank20200420_175237/results/FishTank20200420_175237/FishTank20200420_175237.h5\",\n",
    "             ]\n",
    "\n",
    "data_3D = []\n",
    "data_3D_linear_filled = []\n",
    "data_3D_filtered = []\n",
    "for file_path in file_paths:\n",
    "    with h5py.File(file_path, 'r') as f:\n",
    "        data_3D.append(np.copy(f['tracks_3D']))\n",
    "        data_3D_linear_filled.append(np.copy(f['tracks_3D_linear_filtered']))\n",
    "        data_3D_filtered.append(np.copy(f['tracks_3D_no_outliers_50']))"
   ]
  },
  {
   "cell_type": "code",
   "execution_count": null,
   "metadata": {},
   "outputs": [],
   "source": [
    "for k, dataset in enumerate(data_3D):\n",
    "    data_test = np.copy(dataset)\n",
    "    deleted = 0\n",
    "    for bodypart in range(3):\n",
    "        for coordinate in range(3):\n",
    "            differences = []\n",
    "            datapart = data_test[:, 0, bodypart, coordinate]\n",
    "            for i in np.arange(1, len(datapart)):\n",
    "                if np.isnan(datapart[i]):\n",
    "                    continue\n",
    "\n",
    "                j = i-1\n",
    "                before = datapart[j]\n",
    "                while np.isnan(before):\n",
    "                    j -= 1\n",
    "                    before = datapart[j]\n",
    "\n",
    "                if abs(datapart[j] - datapart[i])*100/(i-j) > 50:\n",
    "                    datapart[i] = np.nan\n",
    "                    deleted += 1\n",
    "\n",
    "            data_test[:, 0, bodypart, coordinate] = datapart\n",
    "    print(deleted)\n",
    "    \n",
    "    with h5py.File(file_paths[k], 'a') as hf:\n",
    "        del hf['tracks_3D_no_outliers_50']\n",
    "        hf.create_dataset('tracks_3D_no_outliers_50', data=data_test)"
   ]
  },
  {
   "cell_type": "markdown",
   "metadata": {},
   "source": [
    "# Missing data check"
   ]
  },
  {
   "cell_type": "code",
   "execution_count": null,
   "metadata": {},
   "outputs": [],
   "source": [
    "def missing_data(dataset):\n",
    "    missing = np.zeros(len(dataset))\n",
    "    missing_bdps = [0,0,0]\n",
    "    missed_frames = []\n",
    "\n",
    "    for i, frame in enumerate(dataset):\n",
    "        for j, bdp in enumerate(frame[0]):\n",
    "            if np.any(np.isnan(bdp)):\n",
    "                missing_bdps[j] += 1\n",
    "                missing[i] += 1\n",
    "                missed_frames.append(i)\n",
    "                \n",
    "    print(\"missing [head, thorax, tail]:\", missing_bdps)\n",
    "    print(\"total missing bodypoints:\", sum(missing_bdps))\n",
    "    print(Counter(missing))\n",
    "    \n",
    "    unique_missing_frames = sorted(set(missed_frames))\n",
    "    missed_frame_sequences = []\n",
    "    if len(unique_missing_frames) > 0:\n",
    "        sequence = [unique_missing_frames[0]]\n",
    "    else:\n",
    "        print(\"no missing frames\")\n",
    "        return\n",
    "    \n",
    "    for frame in unique_missing_frames[1:]:\n",
    "        if frame - sequence[-1] < 2:\n",
    "            sequence.append(frame)\n",
    "        else:\n",
    "            missed_frame_sequences.append(sequence)\n",
    "            sequence = [frame]\n",
    "    missed_frame_sequences.append(sequence)\n",
    "    sequence_lengths = [len(i) for i in missed_frame_sequences]\n",
    "    sequence_lengths, missed_frame_sequences = zip(*sorted(zip(sequence_lengths, missed_frame_sequences)))\n",
    "    print([i for i in sequence_lengths if i > 1])\n",
    "    \n",
    "    return"
   ]
  },
  {
   "cell_type": "code",
   "execution_count": null,
   "metadata": {},
   "outputs": [],
   "source": [
    "def nan_to_averaged_linear(data):\n",
    "    \n",
    "    # look for nan\n",
    "    for i in range(len(data)):\n",
    "        if np.isnan(data[i]):\n",
    "            \n",
    "            # pick nearest non-nan values\n",
    "            value_0 = data[i - 1]\n",
    "            j = i\n",
    "            while np.isnan(data[j]):\n",
    "                j += 1\n",
    "                \n",
    "                # if nan at end of file\n",
    "                if j > len(data):\n",
    "                    j = i - 1\n",
    "                    break\n",
    "                    \n",
    "            value_1 = data[j]\n",
    "            \n",
    "            # calculate linear gradient\n",
    "            difference = value_1 - value_0\n",
    "            gradient = difference / (j - (i - 1))\n",
    "        \n",
    "            # fill in nans\n",
    "            for k in range(i, j):\n",
    "                data[k] = value_0 + gradient * (k - (i - 1))\n",
    "            \n",
    "    return np.array(data)\n",
    "\n",
    "def no_nans_no_more(dataset):\n",
    "    for i in range(3):\n",
    "        for j in range(3):\n",
    "            dataset[:, 0, i, j] = nan_to_averaged_linear(dataset[:, 0, i, j])\n",
    "    return dataset"
   ]
  },
  {
   "cell_type": "markdown",
   "metadata": {},
   "source": [
    "# X, Y, Z - Positions thorax"
   ]
  },
  {
   "cell_type": "code",
   "execution_count": null,
   "metadata": {},
   "outputs": [],
   "source": [
    "def scatterplot_xyz(data, names):\n",
    "    fig, axes = plt.subplots(1, len(names), sharey=True, squeeze=False)\n",
    "    \n",
    "    for i in range(len(names)):\n",
    "        axes[0, i].scatter(data[-1], data[i], s=1)\n",
    "        axes[0, i].set_title(names[i])\n",
    "        axes[0, i].set_xlabel('frame number')\n",
    "        axes[0, i].set_ylabel('position (cm)')\n",
    "        \n",
    "    plt.show()\n",
    "    return\n",
    "\n",
    "def plot_scatter_data(data):\n",
    "    plt.figure()\n",
    "    plt.scatter(np.linspace(0, len(data)-1, len(data)), data)\n",
    "    plt.show()\n",
    "    return\n",
    "\n",
    "def histograms_xyz(data, names):\n",
    "    fig, axes = plt.subplots(1, len(names), sharey=True, squeeze=False)\n",
    "    \n",
    "    for i in range(len(names)):\n",
    "        axes[0, i].hist(data[i], density=True, bins=40)\n",
    "        axes[0, i].set_xlim(0,40)\n",
    "        axes[0, i].set_title(names[i])\n",
    "        axes[0, i].set_xlabel('position (cm)')\n",
    "        axes[0, i].set_ylabel('denisty')\n",
    "        \n",
    "    plt.show()\n",
    "    return\n",
    "\n",
    "def heatmap_plot(xd, yd, title):\n",
    "    # Create heatmap\n",
    "    xd_new = []\n",
    "    yd_new = []\n",
    "    for i in range(len(yd)):\n",
    "        if np.any(np.isnan([xd[i], yd[i]])):\n",
    "            continue\n",
    "        else:\n",
    "            xd_new.append(xd[i])\n",
    "            yd_new.append(yd[i])\n",
    "    heatmap, xedges, yedges = np.histogram2d(yd_new, xd_new, bins=(64,64))\n",
    "\n",
    "    extent = [xedges[0], xedges[-1], yedges[0], yedges[-1]]\n",
    "\n",
    "    # Plot heatmap\n",
    "    plt.figure()\n",
    "    plt.clf()\n",
    "    plt.title(title)\n",
    "    plt.ylabel('y')\n",
    "    plt.xlabel('x')\n",
    "    plt.ylim(0, 40)\n",
    "    plt.xlim(0, 40)\n",
    "    plt.imshow(heatmap, extent=extent, origin='lower')\n",
    "    plt.colorbar()\n",
    "    plt.show()\n",
    "    \n",
    "    return\n",
    "\n",
    "def bodypoint_positions(dataset, names=['x', 'y', 'z'], plots=[True, True, True], bodypoint=\"thorax\", frame_range=None):\n",
    "    \n",
    "    # take coordinates for one bodypoint\n",
    "    bodypoints = {\"head\": 0, \"thorax\": 1, \"tail\": 2}\n",
    "    if frame_range:\n",
    "        coords = dataset[frame_range[0]:frame_range[-1], 0, bodypoints[bodypoint], :]\n",
    "        linsp = np.linspace(frame_range[0], frame_range[-1], frame_range[-1] - frame_range[0])\n",
    "    else:\n",
    "        coords = dataset[:, 0, bodypoints[bodypoint], :]\n",
    "        linsp = np.linspace(0, len(coords)-1, len(coords))\n",
    "        \n",
    "    x = coords[:, 0]\n",
    "    y = coords[:, 1]\n",
    "    z = coords[:, 2]\n",
    "    \n",
    "    data_plots = []\n",
    "    for i in names:\n",
    "        if i == 'x':\n",
    "            data_plots.append(x)\n",
    "        elif i == 'y':\n",
    "            data_plots.append(y)\n",
    "        elif i == 'z':\n",
    "            data_plots.append(z)\n",
    "    data_plots.append(linsp)\n",
    "    \n",
    "    if plots[0]:\n",
    "        scatterplot_xyz(data_plots, names)\n",
    "    if plots[1]:\n",
    "        histograms_xyz(data_plots, names)\n",
    "    if plots[2]:\n",
    "        heatmap_plot(x, y, bodypoint + ' xy heatmap (specfic range: {})'.format(frame_range))\n",
    "    \n",
    "    return"
   ]
  },
  {
   "cell_type": "markdown",
   "metadata": {},
   "source": [
    "# Z-specific xy heatmaps & histograms"
   ]
  },
  {
   "cell_type": "code",
   "execution_count": null,
   "metadata": {},
   "outputs": [],
   "source": [
    "def get_xy_for_z(data, zmin, zmax):\n",
    "    x_data = []\n",
    "    y_data = []\n",
    "    for coords in data:\n",
    "        x_coord = coords[0]\n",
    "        y_coord = coords[1]\n",
    "        z_coord = coords[2]\n",
    "        if z_coord < zmax and z_coord > zmin:\n",
    "            x_data.append(x_coord)\n",
    "            y_data.append(y_coord)\n",
    "    return x_data, y_data\n",
    "\n",
    "def z_specific_xy(dataset, zstart, zstop, stepsize):\n",
    "    while zstart < zstop:\n",
    "        x_data, y_data = get_xy_for_z(dataset, zstart, zstart + stepsize)\n",
    "        heatmap_plot(x_data, y_data, \"xy for z between {} and {}\".format(zstart, zstart + stepsize))\n",
    "        histograms_xyz([x_data, y_data], ['x for z [{},{}]'.format(zstart, zstart + stepsize), 'y for z [{},{}]'.format(zstart, zstart + stepsize)])\n",
    "        zstart = zstart + stepsize\n",
    "    return"
   ]
  },
  {
   "cell_type": "markdown",
   "metadata": {},
   "source": [
    "# xy direction upperbody angle"
   ]
  },
  {
   "cell_type": "code",
   "execution_count": null,
   "metadata": {},
   "outputs": [],
   "source": [
    "def calc_angle_xpos(vector):\n",
    "    return math.atan2(vector[1], vector[0]) * 180 / math.pi\n",
    "\n",
    "def calculate_angles(data_1, data_2, axes):\n",
    "    angles = []\n",
    "    \n",
    "    # A_vector = (x1 - x2)i + (y1 - y2)j\n",
    "    for i in range(len(data_1)):\n",
    "        x1 = data_1[i][axes[0]]\n",
    "        x2 = data_2[i][axes[0]]\n",
    "        y1 = data_1[i][axes[1]]\n",
    "        y2 = data_2[i][axes[1]]\n",
    "        \n",
    "        angles.append(calc_angle_xpos([x1 - x2, y1 - y2]))\n",
    "        \n",
    "    return angles\n",
    "\n",
    "def angle_directional(data_1, data_2, axes):\n",
    "    angles = []\n",
    "    for i in range(len(data_1)):\n",
    "        x1 = data_1[i][axes[0]]\n",
    "        x2 = data_2[i][axes[0]]\n",
    "        y1 = data_1[i][axes[1]]\n",
    "        y2 = data_2[i][axes[1]]\n",
    "        angle = np.arctan2(y1 - y2, x1 - x2) * 180 / np.pi\n",
    "        if angle < 0:\n",
    "            angle = 360 + angle\n",
    "        angles.append(angle)\n",
    "    return angles\n",
    "\n",
    "def angle_add_xy(data):\n",
    "    angles = []\n",
    "    pref_vector = [1, 0]\n",
    "    for i in range(len(data)):\n",
    "        x1 = data[i][0][0][0]\n",
    "        x2 = data[i][0][1][0]\n",
    "        y1 = data[i][0][0][1]\n",
    "        y2 = data[i][0][1][1]\n",
    "        vector = [x1-x2,y1-y2]\n",
    "        \n",
    "        angle_1 = calc_angle_xpos(vector)\n",
    "        angle_2 = calc_angle_xpos(pref_vector)\n",
    "        \n",
    "        angle = np.mod(angle_1 - angle_2, 360)\n",
    "        \n",
    "        if angle > 180:\n",
    "            angle = angle - 360\n",
    "        \n",
    "        if np.isnan(angle):\n",
    "            angles.append(angle)\n",
    "        elif len(angles) > 0:\n",
    "            angles.append(pref_angle + angle)\n",
    "            pref_angle = pref_angle + angle\n",
    "        else:\n",
    "            angles.append(angle)\n",
    "            pref_angle = angle\n",
    "        \n",
    "        pref_vector = vector\n",
    "        \n",
    "    return angles\n",
    "\n",
    "def plot_angles_histogram(dataset, axes=[0,1], directional=True):\n",
    "    if directional:\n",
    "        angles = angle_directional(dataset[:, 0, 0, :], dataset[:, 0, 1, :], axes)\n",
    "    else:\n",
    "        angles = calculate_angles(dataset[:, 0, 0, :], dataset[:, 0, 1, :], axes)\n",
    "    plt.figure()\n",
    "    plt.title('angle (degrees) to positive x-axis histogram')\n",
    "    plt.hist(angles, bins=45)\n",
    "    plt.show()\n",
    "    return"
   ]
  },
  {
   "cell_type": "markdown",
   "metadata": {},
   "source": [
    "# Tail stuff"
   ]
  },
  {
   "cell_type": "code",
   "execution_count": null,
   "metadata": {},
   "outputs": [],
   "source": [
    "def make_dot(v1, v2):\n",
    "    dot = 0\n",
    "    for i in range(len(v1)):\n",
    "        dot += v1[i] * v2[i]\n",
    "    return dot\n",
    "\n",
    "def make_mag(vector):\n",
    "    mag2 = 0\n",
    "    for i in vector:\n",
    "        mag2 += i**2\n",
    "    mag = np.sqrt(mag2)\n",
    "    return mag\n",
    "\n",
    "def angle_between(v1, v2):\n",
    "    dot = make_dot(v1, v2)\n",
    "    mag1 = make_mag(v1)\n",
    "    mag2 = make_mag(v2)\n",
    "    angle = math.degrees(math.acos(dot/(mag1*mag2)))\n",
    "    return angle\n",
    "\n",
    "def tail_angles(data):\n",
    "    head = data[:, 0, 0, :]\n",
    "    thorax = data[:, 0, 1, :]\n",
    "    tail = data[:, 0, 2, :]\n",
    "    angles = []\n",
    "    for i in range(len(head)):\n",
    "        vector_head_flip = [(thorax[i][0] - head[i][0]), (thorax[i][1] - head[i][1])]\n",
    "        vector_head = [(head[i][0] - thorax[i][0]), (head[i][1] - thorax[i][1])]\n",
    "        vector_tail = [(tail[i][0] - thorax[i][0]), (tail[i][1] - thorax[i][1])]\n",
    "        angle_smallest = angle_between(vector_head_flip, vector_tail)\n",
    "        angle_tail = calc_angle_xpos(vector_tail)\n",
    "        angle_head = calc_angle_xpos(vector_head)\n",
    "        \n",
    "        diff = angle_tail - angle_head\n",
    "        if diff < 0:\n",
    "            angle = 180 + diff\n",
    "        else:\n",
    "            angle = diff - 180\n",
    "        angles.append(angle)\n",
    "        \n",
    "    return angles\n",
    "\n",
    "def histogram_tail_angles(dataset):\n",
    "    plt.figure()\n",
    "    plt.hist(tail_angles(dataset), bins=360)\n",
    "    plt.xlim(-180, 180)\n",
    "    plt.show()\n",
    "    return"
   ]
  },
  {
   "cell_type": "markdown",
   "metadata": {},
   "source": [
    "# z-angle with xy plane"
   ]
  },
  {
   "cell_type": "code",
   "execution_count": null,
   "metadata": {},
   "outputs": [],
   "source": [
    "def z_xyplane_angle(data_1, data_2):\n",
    "    angles = []\n",
    "    for i in range(len(data_1)):\n",
    "        angle = angle_between(data_1[i] - data_2[i], [data_1[i][0]-data_2[i][0], data_1[i][1]-data_2[i][1], 0])\n",
    "        \n",
    "        if data_1[i][2]-data_2[i][2] > 0:\n",
    "            angles.append(angle)\n",
    "        else: \n",
    "            angles.append(-angle)\n",
    "    return angles"
   ]
  },
  {
   "cell_type": "markdown",
   "metadata": {},
   "source": [
    "# Speed"
   ]
  },
  {
   "cell_type": "code",
   "execution_count": null,
   "metadata": {},
   "outputs": [],
   "source": [
    "from numpy.polynomial import polynomial as P\n",
    "#import multipolyfit.multipolyfit as mpf"
   ]
  },
  {
   "cell_type": "code",
   "execution_count": null,
   "metadata": {},
   "outputs": [],
   "source": [
    "def calculate_poly_values(c, x_values):\n",
    "    y_values = []\n",
    "    for x in x_values:\n",
    "        y = 0\n",
    "        for i, const in enumerate(c):\n",
    "            y += const * np.power(x, i)\n",
    "        y_values.append(y)\n",
    "    return y_values\n",
    "\n",
    "def derivative_poly(c, x):\n",
    "    derivative = 0\n",
    "    for i in range(1, len(c)):\n",
    "        derivative += c[i] * (i) * np.power(x, i-1) \n",
    "    return derivative\n",
    "\n",
    "def velocity_single_direction(data_i, df, degrees):\n",
    "    \n",
    "    velocities = []\n",
    "    for i in range(df, len(data_i) - df):\n",
    "        data_r = data_i[i-df:i+df+1]\n",
    "        c = P.polyfit(np.linspace(i - df, i - df + len(data_r) - 1, len(data_r)), data_r, degrees)\n",
    "        velocities.append(derivative_poly(c, i) * 100)\n",
    "    \n",
    "    return velocities"
   ]
  },
  {
   "cell_type": "code",
   "execution_count": null,
   "metadata": {},
   "outputs": [],
   "source": [
    "def speed_upanddown(speeds):\n",
    "    speed_up_y = []\n",
    "    speed_up_x = []\n",
    "    speed_down_y = []\n",
    "    speed_down_x = []\n",
    "\n",
    "    for i in range(1, len(speeds) - 1):\n",
    "        pref = speeds[i-1]\n",
    "        now = speeds[i]\n",
    "        later = speeds[i+1]\n",
    "\n",
    "        if abs(now) > abs(pref):\n",
    "            speed_up_x.append(i)\n",
    "            speed_up_y.append(now)\n",
    "        else:\n",
    "            speed_down_x.append(i)\n",
    "            speed_down_y.append(now)\n",
    "            \n",
    "    return [speed_up_x, speed_up_y], [speed_down_x, speed_down_y]"
   ]
  },
  {
   "cell_type": "markdown",
   "metadata": {},
   "source": [
    "# Video xy positions heatmap moving frame region"
   ]
  },
  {
   "cell_type": "code",
   "execution_count": null,
   "metadata": {},
   "outputs": [],
   "source": [
    "def make_frame(x, y, n):\n",
    "    heatmap, xedges, yedges = np.histogram2d([i for i in y if not np.isnan(i)], [i for i in x if not np.isnan(i)], bins=(64,64))\n",
    "    extent = [xedges[0], xedges[-1], yedges[0], yedges[-1]]\n",
    "    \n",
    "    plt.ioff()\n",
    "    fig, ax = plt.subplots(figsize=(10,10))\n",
    "    canvas = FigureCanvas(fig)\n",
    "    \n",
    "    ax.set_title('full experiment xy heatmap')\n",
    "    ax.set_ylabel('y')\n",
    "    ax.set_xlabel('x')\n",
    "    ax.set_ylim(0, 40)\n",
    "    ax.set_xlim(0, 40)\n",
    "    plt.imshow(heatmap, extent=extent, origin='lower')\n",
    "    plt.colorbar()\n",
    "    \n",
    "    canvas.draw()\n",
    "    s, (width, height) = canvas.print_to_buffer()\n",
    "    \n",
    "    # convert the figure to an array of the correct size\n",
    "    img = np.frombuffer(canvas.tostring_rgb(), dtype='uint8').reshape(width, height, 3)\n",
    "    \n",
    "    plt.close()\n",
    "    plt.ion()\n",
    "    \n",
    "    return img"
   ]
  },
  {
   "cell_type": "markdown",
   "metadata": {},
   "source": [
    "# Video Fish"
   ]
  },
  {
   "cell_type": "code",
   "execution_count": null,
   "metadata": {},
   "outputs": [],
   "source": [
    "def animate_scatters(iteration, data, scatters, lines, scatter_projections, lines_projections, text, all_timestamps):\n",
    "    \"\"\"\n",
    "    Update the data held by the scatter plot and therefore animates it.\n",
    "\n",
    "    Args:\n",
    "        iteration (int): Current iteration of the animation\n",
    "        data (list): List of the data positions at each iteration.\n",
    "        scatters (list): List of all the scatters (One per element)\n",
    "\n",
    "    Returns:\n",
    "        list: List of scatters (One per element) with new coordinates\n",
    "    \"\"\"\n",
    "    #if np.mod(iteration, 100) == 0:\n",
    "        #print(iteration)\n",
    "    # parse the input shapes\n",
    "    numFrames, numFish, numBodyPoints, _ = data.shape\n",
    " \n",
    "    # update the scatters\n",
    "    for fishIdx in range(numFish):\n",
    "        for bpIdx in range(numBodyPoints):\n",
    "            scatters[fishIdx][bpIdx]._offsets3d = (data[iteration,fishIdx,bpIdx,0:1],\n",
    "                                                   data[iteration,fishIdx,bpIdx,1:2],\n",
    "                                                   data[iteration,fishIdx,bpIdx,2:])\n",
    "            \n",
    "    # update the lines\n",
    "    for fishIdx,line in enumerate(lines):\n",
    "        line.set_data(data[iteration, fishIdx, :, :2].swapaxes(0,1))\n",
    "        line.set_3d_properties(data[iteration, fishIdx, :, 2])\n",
    "        \n",
    "        \n",
    "    # update the text\n",
    "    text.set_text(all_timestamps[iteration])\n",
    "        \n",
    "    # -------------- #\n",
    "    for projectionIdx in range(3):\n",
    "        \n",
    "        # XZ => Y=0\n",
    "        if projectionIdx == 0:\n",
    "            projectionData = np.copy(data[iteration])\n",
    "            projectionData[:, :, 1] = 0\n",
    "        # XY => Z=0\n",
    "        elif projectionIdx == 1:\n",
    "            projectionData = np.copy(data[iteration])\n",
    "            projectionData[:, :, 2] = 0\n",
    "        # YZ => X=0\n",
    "        elif projectionIdx == 2:\n",
    "            projectionData = np.copy(data[iteration])\n",
    "            projectionData[:, :, 0] = 0\n",
    "            \n",
    "        proj_scatters = scatter_projections[projectionIdx]\n",
    "        proj_lines = lines_projections[projectionIdx]\n",
    "        \n",
    "        # update the scatters\n",
    "        for fishIdx in range(numFish):\n",
    "            for bpIdx in range(numBodyPoints):\n",
    "                proj_scatters[fishIdx][bpIdx]._offsets3d = (projectionData[fishIdx,bpIdx,0:1],\n",
    "                                                            projectionData[fishIdx,bpIdx,1:2],\n",
    "                                                            projectionData[fishIdx,bpIdx,2:])\n",
    "        # update the lines\n",
    "        for fishIdx,line in enumerate(proj_lines):\n",
    "            line.set_data(projectionData[fishIdx, :, :2].swapaxes(0,1))\n",
    "            line.set_3d_properties(projectionData[fishIdx, :, 2])\n",
    "\n",
    "    return\n",
    "\n",
    "\n",
    "\n",
    "\n",
    "def make_movie(data, f0, fE, savePath='/home/liam/temp/testanimation.mp4'):\n",
    "    \"\"\"\n",
    "    Creates the 3D figure and animates it with the input data.\n",
    "\n",
    "    Args:\n",
    "        data (list): List of the data positions at each iteration.\n",
    "        save (bool): Whether to save the recording of the animation. (Default to False).\n",
    "    \"\"\"\n",
    "    data = data[f0:fE]\n",
    "    \n",
    "    # parse the input shapes\n",
    "    numFrames, numFish, numBodyPoints, _ = data.shape\n",
    "    fish_colors = ['red', 'blue']\n",
    "\n",
    "    # Attaching 3D axis to the figure\n",
    "    fig = plt.figure()\n",
    "    fig.tight_layout()\n",
    "    ax = p3.Axes3D(fig, [0.,0.,1.,1.])\n",
    "\n",
    "    # Initialize scatters (list over fish, list over bps)\n",
    "    symbols = ['o', 's', 'x']\n",
    "    sizes=12\n",
    "    \n",
    "    # Main scatters\n",
    "    scatters = []\n",
    "    for fishIdx in range(numFish):\n",
    "        col = fish_colors[fishIdx]\n",
    "        fish_scatters = []\n",
    "        for bpIdx in range(numBodyPoints):\n",
    "            fish_scatters.append(ax.scatter(data[0,fishIdx,bpIdx,0:1], data[0,fishIdx,bpIdx,1:2], data[0,fishIdx,bpIdx,2:], \n",
    "                                            c=col, s=sizes, marker=symbols[bpIdx])) \n",
    "        scatters.append(fish_scatters)\n",
    "        \n",
    "    # Main lines\n",
    "    lines = []\n",
    "    for fishIdx in range(numFish):\n",
    "        col = fish_colors[fishIdx]\n",
    "        line = ax.plot(data[0, fishIdx, :, 0], data[0, fishIdx, :, 1], data[0, fishIdx, :, 2], c=col)[0]\n",
    "        lines.append(line)\n",
    "        \n",
    "    # ----------------\n",
    "    # projections\n",
    "    symbols = ['x', 'o', 's']\n",
    "    sizes=5\n",
    "\n",
    "    scatter_projections = []\n",
    "    lines_projections = []\n",
    "    for projectionIdx in range(3):\n",
    "        proj_scatters = []\n",
    "        proj_lines = []\n",
    "        for fishIdx in range(numFish):\n",
    "            col = fish_colors[fishIdx]\n",
    "            # scatter plots\n",
    "            fish_scatters = []\n",
    "            for bpIdx in range(numBodyPoints):\n",
    "                #print(symbols[bpIdx])\n",
    "                fish_scatters.append(ax.scatter(data[0,fishIdx,bpIdx,0:1], data[0,fishIdx,bpIdx,1:2], data[0,fishIdx,bpIdx,2:], \n",
    "                                                c=col, s=sizes, marker=symbols[bpIdx], alpha=0.1))\n",
    "            # lines\n",
    "            line = ax.plot(data[0, fishIdx, :, 0], data[0, fishIdx, :, 1], data[0, fishIdx, :, 2], c=col, alpha=0.1)[0]\n",
    "            proj_lines.append(line)\n",
    "            proj_scatters.append(fish_scatters)\n",
    "        \n",
    "        scatter_projections.append(proj_scatters)\n",
    "        lines_projections.append(proj_lines)\n",
    "    # ----------------\n",
    "    \n",
    "    # the text\n",
    "    all_timestamps = ['frame: '+ str(i).zfill(7) for i in range(f0, fE)]\n",
    "    time_text = ax.text(14, 0, 43,'', fontsize=15)\n",
    "\n",
    "    # Setting the axes properties\n",
    "    ax.set_xlim3d([0, 40])\n",
    "    ax.set_xlabel('X')\n",
    "\n",
    "    ax.set_ylim3d([0, 40])\n",
    "    ax.set_ylabel('Y')\n",
    "\n",
    "    ax.set_zlim3d([0, 40])\n",
    "    ax.set_zlabel('Z')\n",
    "\n",
    "    # Provide starting angle for the view\n",
    "    elevation_angle = 10\n",
    "    azimuthal_angle = 45\n",
    "    ax.view_init(elevation_angle, azimuthal_angle)\n",
    "\n",
    "    ani = animation.FuncAnimation(fig, animate_scatters, numFrames, fargs=(data, scatters, lines, \n",
    "                                                                           scatter_projections, lines_projections,\n",
    "                                                                           time_text, all_timestamps),\n",
    "                                       interval=10, blit=False, repeat=True)\n",
    "\n",
    "    Writer = animation.writers['ffmpeg']\n",
    "    writer = Writer(fps=100, metadata=dict(artist='LOS'), bitrate=3500)\n",
    "    ani.save(savePath, writer=writer)\n",
    "    return"
   ]
  },
  {
   "cell_type": "markdown",
   "metadata": {},
   "source": [
    "# Running code"
   ]
  },
  {
   "cell_type": "code",
   "execution_count": null,
   "metadata": {},
   "outputs": [],
   "source": [
    "solo_data = data_3D_filtered[0]"
   ]
  },
  {
   "cell_type": "markdown",
   "metadata": {},
   "source": [
    "### Missing data"
   ]
  },
  {
   "cell_type": "code",
   "execution_count": null,
   "metadata": {},
   "outputs": [],
   "source": [
    "# multiple\n",
    "for dataset in data_3D_filtered:\n",
    "    missing_data(dataset)\n",
    "    print()"
   ]
  },
  {
   "cell_type": "code",
   "execution_count": null,
   "metadata": {},
   "outputs": [],
   "source": [
    "# solo\n",
    "missing_data(solo_data)"
   ]
  },
  {
   "cell_type": "markdown",
   "metadata": {},
   "source": [
    "### Positions (plots=[scatter, histogram, heatmap])"
   ]
  },
  {
   "cell_type": "code",
   "execution_count": null,
   "metadata": {},
   "outputs": [],
   "source": [
    "# multiple\n",
    "for dataset in data_3D_filtered:\n",
    "    bodypoint_positions(dataset, plots=[True, False, False], names=['x', 'y', 'z'], frame_range=None)"
   ]
  },
  {
   "cell_type": "code",
   "execution_count": null,
   "metadata": {},
   "outputs": [],
   "source": [
    "# solo\n",
    "bodypoint_positions(solo_data, plots=[True, True, True], names=['x', 'y', 'z'], frame_range=None)"
   ]
  },
  {
   "cell_type": "code",
   "execution_count": null,
   "metadata": {},
   "outputs": [],
   "source": [
    "# heatmap z specific\n",
    "z_specific_xy(solo_data[:, 0, 1, :], 0, 40, 5)"
   ]
  },
  {
   "cell_type": "markdown",
   "metadata": {},
   "source": [
    "### Angles"
   ]
  },
  {
   "cell_type": "markdown",
   "metadata": {},
   "source": [
    "##### Upperbody xy"
   ]
  },
  {
   "cell_type": "code",
   "execution_count": null,
   "metadata": {},
   "outputs": [],
   "source": [
    "# directional (0 to 360 degrees)\n",
    "angles_upperbody = angle_directional(solo_data[:, 0, 0, :], solo_data[:, 0, 1, :], [0,1])"
   ]
  },
  {
   "cell_type": "code",
   "execution_count": null,
   "metadata": {},
   "outputs": [],
   "source": [
    "# additive [adds degrees relative to previous position (\"remembers\")]\n",
    "angles_upperbody_additive = angle_add_xy(solo_data)"
   ]
  },
  {
   "cell_type": "code",
   "execution_count": null,
   "metadata": {},
   "outputs": [],
   "source": [
    "plot_scatter_data(angles_upperbody_additive)"
   ]
  },
  {
   "cell_type": "code",
   "execution_count": null,
   "metadata": {},
   "outputs": [],
   "source": [
    "# histogram of angles\n",
    "plot_angles_histogram(solo_data, directional=True)"
   ]
  },
  {
   "cell_type": "markdown",
   "metadata": {},
   "source": [
    "##### Upperbody z"
   ]
  },
  {
   "cell_type": "code",
   "execution_count": null,
   "metadata": {},
   "outputs": [],
   "source": [
    "z_angles_upperbody = z_xyplane_angle(solo_data[:, 0, 0, :], solo_data[:, 0, 1, :])"
   ]
  },
  {
   "cell_type": "code",
   "execution_count": null,
   "metadata": {},
   "outputs": [],
   "source": [
    "solo_data2 = data_3D_filtered[5]\n",
    "z_angles_upperbody2 = z_xyplane_angle(solo_data2[:, 0, 0, :], solo_data2[:, 0, 1, :])"
   ]
  },
  {
   "cell_type": "code",
   "execution_count": null,
   "metadata": {},
   "outputs": [],
   "source": [
    "plot_scatter_data(z_angles_upperbody)"
   ]
  },
  {
   "cell_type": "code",
   "execution_count": null,
   "metadata": {},
   "outputs": [],
   "source": [
    "plt.figure()\n",
    "plt.hist(z_angles_upperbody, bins=100, label=\"fish1\", alpha=0.5)\n",
    "plt.hist(z_angles_upperbody2, bins=100, label=\"fish2\", alpha=0.5)\n",
    "plt.axvline(0)\n",
    "plt.show()"
   ]
  },
  {
   "cell_type": "markdown",
   "metadata": {},
   "source": [
    "##### Tail xy"
   ]
  },
  {
   "cell_type": "code",
   "execution_count": null,
   "metadata": {},
   "outputs": [],
   "source": [
    "# histogram for all\n",
    "for dataset in data_3D_filtered:\n",
    "    histogram_tail_angles(dataset)"
   ]
  },
  {
   "cell_type": "code",
   "execution_count": null,
   "metadata": {},
   "outputs": [],
   "source": [
    "# histogram solo\n",
    "histogram_tail_angles(solo_data)"
   ]
  },
  {
   "cell_type": "code",
   "execution_count": null,
   "metadata": {},
   "outputs": [],
   "source": [
    "# scatterplot/data angles\n",
    "angles_tail = tail_angles(solo_data)"
   ]
  },
  {
   "cell_type": "code",
   "execution_count": null,
   "metadata": {},
   "outputs": [],
   "source": [
    "plot_scatter_data(angles_tail[479000:481000])"
   ]
  },
  {
   "cell_type": "markdown",
   "metadata": {},
   "source": [
    "##### Tail z"
   ]
  },
  {
   "cell_type": "code",
   "execution_count": null,
   "metadata": {},
   "outputs": [],
   "source": [
    "z_angles_tail = z_xyplane_angle(solo_data[:, 0, 2, :], solo_data[:, 0, 1, :])"
   ]
  },
  {
   "cell_type": "code",
   "execution_count": null,
   "metadata": {},
   "outputs": [],
   "source": [
    "plot_scatter_data(z_angles_tail[530000:550000])"
   ]
  },
  {
   "cell_type": "code",
   "execution_count": null,
   "metadata": {},
   "outputs": [],
   "source": [
    "plt.figure()\n",
    "plt.hist(z_angles_tail, bins=100)\n",
    "plt.show()"
   ]
  },
  {
   "cell_type": "markdown",
   "metadata": {},
   "source": [
    "### Speed"
   ]
  },
  {
   "cell_type": "markdown",
   "metadata": {},
   "source": [
    "##### Directional"
   ]
  },
  {
   "cell_type": "code",
   "execution_count": null,
   "metadata": {},
   "outputs": [],
   "source": [
    "data = solo_data[:, 0, 1, :]\n",
    "velocities_x = velocity_single_direction(data[:, 0], 5, 2)\n",
    "velocities_y = velocity_single_direction(data[:, 1], 5, 2)\n",
    "velocities_z = velocity_single_direction(data[:, 2], 5, 2)\n",
    "\n",
    "# absolute speeds\n",
    "speeds_directional = []\n",
    "for i in range(len(velocities_x)):\n",
    "    speeds_directional.append(np.sqrt(np.power(velocities_x[i], 2) + np.power(velocities_y[i], 2) + np.power(velocities_z[i], 2)))"
   ]
  },
  {
   "cell_type": "code",
   "execution_count": null,
   "metadata": {},
   "outputs": [],
   "source": [
    "plt.figure()\n",
    "plt.hist(speeds_directional, bins=100)\n",
    "plt.show()"
   ]
  },
  {
   "cell_type": "code",
   "execution_count": null,
   "metadata": {},
   "outputs": [],
   "source": [
    "speed_up, speed_down = speed_upanddown(speeds_directional[479000:481000])\n",
    "\n",
    "plt.figure()\n",
    "plt.scatter(*speed_up, label=\"acceleration\")\n",
    "plt.scatter(*speed_down, label=\"deceleration\")\n",
    "plt.legend()\n",
    "plt.show()"
   ]
  },
  {
   "cell_type": "code",
   "execution_count": null,
   "metadata": {},
   "outputs": [],
   "source": [
    "# one direction:\n",
    "velocities_i = np.copy(velocities_z)\n",
    "\n",
    "i_up, i_down = speed_upanddown(velocities_i[479000:481000])\n",
    "\n",
    "plt.figure()\n",
    "plt.scatter(*i_up, label=\"acceleration\")\n",
    "plt.scatter(*i_down, label=\"deceleration\")\n",
    "plt.legend()\n",
    "plt.show()"
   ]
  },
  {
   "cell_type": "markdown",
   "metadata": {},
   "source": [
    "##### Speed of anything"
   ]
  },
  {
   "cell_type": "code",
   "execution_count": null,
   "metadata": {},
   "outputs": [],
   "source": [
    "# angles_upperbody_additive, z_angles_upperbody, angles_tail, z_angles_tail\n",
    "dataset_something = np.copy(angles_tail)\n",
    "\n",
    "speed_something = velocity_single_direction(dataset_something, 5, 2)"
   ]
  },
  {
   "cell_type": "code",
   "execution_count": null,
   "metadata": {},
   "outputs": [],
   "source": [
    "plt.figure()\n",
    "plt.hist(speed_something, bins=100)\n",
    "plt.show()"
   ]
  },
  {
   "cell_type": "code",
   "execution_count": null,
   "metadata": {},
   "outputs": [],
   "source": [
    "dataset_something2 = np.copy(angles_upperbody_additive)\n",
    "\n",
    "speed_something2 = velocity_single_direction(dataset_something2, 5, 2)"
   ]
  },
  {
   "cell_type": "code",
   "execution_count": null,
   "metadata": {},
   "outputs": [],
   "source": [
    "plt.figure()\n",
    "plt.hist(speed_something2, bins=100)\n",
    "plt.show()"
   ]
  },
  {
   "cell_type": "markdown",
   "metadata": {},
   "source": [
    "### Make movie"
   ]
  },
  {
   "cell_type": "code",
   "execution_count": null,
   "metadata": {},
   "outputs": [],
   "source": [
    "# make the movie\n",
    "\n",
    "t0 = time.time()\n",
    "\n",
    "# frame range\n",
    "f0 = 250400\n",
    "fE = 250600\n",
    "\n",
    "make_movie(solo_data, f0, fE, savePath='./0_250400_250600.mp4')\n",
    "\n",
    "tE = time.time()\n",
    "print(tE-t0)"
   ]
  },
  {
   "cell_type": "code",
   "execution_count": null,
   "metadata": {},
   "outputs": [],
   "source": []
  }
 ],
 "metadata": {
  "kernelspec": {
   "display_name": "Python 3",
   "language": "python",
   "name": "python3"
  },
  "language_info": {
   "codemirror_mode": {
    "name": "ipython",
    "version": 3
   },
   "file_extension": ".py",
   "mimetype": "text/x-python",
   "name": "python",
   "nbconvert_exporter": "python",
   "pygments_lexer": "ipython3",
   "version": "3.6.9"
  }
 },
 "nbformat": 4,
 "nbformat_minor": 4
}
